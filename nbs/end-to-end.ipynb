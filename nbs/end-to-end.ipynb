{
 "cells": [
  {
   "cell_type": "code",
   "execution_count": 1,
   "metadata": {},
   "outputs": [
    {
     "data": {
      "text/html": [
       "<div>\n",
       "<style scoped>\n",
       "    .dataframe tbody tr th:only-of-type {\n",
       "        vertical-align: middle;\n",
       "    }\n",
       "\n",
       "    .dataframe tbody tr th {\n",
       "        vertical-align: top;\n",
       "    }\n",
       "\n",
       "    .dataframe thead th {\n",
       "        text-align: right;\n",
       "    }\n",
       "</style>\n",
       "<table border=\"1\" class=\"dataframe\">\n",
       "  <thead>\n",
       "    <tr style=\"text-align: right;\">\n",
       "      <th></th>\n",
       "      <th>filepath</th>\n",
       "      <th>label</th>\n",
       "    </tr>\n",
       "  </thead>\n",
       "  <tbody>\n",
       "    <tr>\n",
       "      <th>0</th>\n",
       "      <td>data/imagenette/2/00346.jpg</td>\n",
       "      <td>cassette player</td>\n",
       "    </tr>\n",
       "    <tr>\n",
       "      <th>1</th>\n",
       "      <td>data/imagenette/2/00845.jpg</td>\n",
       "      <td>cassette player</td>\n",
       "    </tr>\n",
       "    <tr>\n",
       "      <th>2</th>\n",
       "      <td>data/imagenette/2/00383.jpg</td>\n",
       "      <td>cassette player</td>\n",
       "    </tr>\n",
       "    <tr>\n",
       "      <th>3</th>\n",
       "      <td>data/imagenette/2/00503.jpg</td>\n",
       "      <td>cassette player</td>\n",
       "    </tr>\n",
       "    <tr>\n",
       "      <th>4</th>\n",
       "      <td>data/imagenette/2/00002.jpg</td>\n",
       "      <td>cassette player</td>\n",
       "    </tr>\n",
       "    <tr>\n",
       "      <th>...</th>\n",
       "      <td>...</td>\n",
       "      <td>...</td>\n",
       "    </tr>\n",
       "    <tr>\n",
       "      <th>95</th>\n",
       "      <td>data/imagenette/5/09030.jpg</td>\n",
       "      <td>French horn</td>\n",
       "    </tr>\n",
       "    <tr>\n",
       "      <th>96</th>\n",
       "      <td>data/imagenette/5/09299.jpg</td>\n",
       "      <td>French horn</td>\n",
       "    </tr>\n",
       "    <tr>\n",
       "      <th>97</th>\n",
       "      <td>data/imagenette/5/09018.jpg</td>\n",
       "      <td>French horn</td>\n",
       "    </tr>\n",
       "    <tr>\n",
       "      <th>98</th>\n",
       "      <td>data/imagenette/5/08529.jpg</td>\n",
       "      <td>French horn</td>\n",
       "    </tr>\n",
       "    <tr>\n",
       "      <th>99</th>\n",
       "      <td>data/imagenette/5/08680.jpg</td>\n",
       "      <td>French horn</td>\n",
       "    </tr>\n",
       "  </tbody>\n",
       "</table>\n",
       "<p>100 rows × 2 columns</p>\n",
       "</div>"
      ],
      "text/plain": [
       "                       filepath            label\n",
       "0   data/imagenette/2/00346.jpg  cassette player\n",
       "1   data/imagenette/2/00845.jpg  cassette player\n",
       "2   data/imagenette/2/00383.jpg  cassette player\n",
       "3   data/imagenette/2/00503.jpg  cassette player\n",
       "4   data/imagenette/2/00002.jpg  cassette player\n",
       "..                          ...              ...\n",
       "95  data/imagenette/5/09030.jpg      French horn\n",
       "96  data/imagenette/5/09299.jpg      French horn\n",
       "97  data/imagenette/5/09018.jpg      French horn\n",
       "98  data/imagenette/5/08529.jpg      French horn\n",
       "99  data/imagenette/5/08680.jpg      French horn\n",
       "\n",
       "[100 rows x 2 columns]"
      ]
     },
     "execution_count": 1,
     "metadata": {},
     "output_type": "execute_result"
    }
   ],
   "source": [
    "import pandas as pd\n",
    "\n",
    "df = pd.read_parquet(\"training_samples.parquet\")\n",
    "df.rename(columns={\"label_name\": \"label\"}, inplace=True)\n",
    "df"
   ]
  },
  {
   "cell_type": "code",
   "execution_count": 2,
   "metadata": {},
   "outputs": [
    {
     "name": "stderr",
     "output_type": "stream",
     "text": [
      "\u001b[32m2025-01-11 18:23:14.343\u001b[0m | \u001b[1mINFO    \u001b[0m | \u001b[36mactive_vision.core\u001b[0m:\u001b[36mload_model\u001b[0m:\u001b[36m30\u001b[0m - \u001b[1mLoading model resnet18\u001b[0m\n"
     ]
    }
   ],
   "source": [
    "from active_vision.core import ActiveLearner\n",
    "\n",
    "al = ActiveLearner(\"resnet18\")\n"
   ]
  },
  {
   "cell_type": "code",
   "execution_count": 3,
   "metadata": {},
   "outputs": [
    {
     "name": "stderr",
     "output_type": "stream",
     "text": [
      "\u001b[32m2025-01-11 18:23:14.347\u001b[0m | \u001b[1mINFO    \u001b[0m | \u001b[36mactive_vision.core\u001b[0m:\u001b[36mload_dataset\u001b[0m:\u001b[36m45\u001b[0m - \u001b[1mLoading dataset from filepath and label\u001b[0m\n",
      "\u001b[32m2025-01-11 18:23:14.349\u001b[0m | \u001b[1mINFO    \u001b[0m | \u001b[36mactive_vision.core\u001b[0m:\u001b[36mload_dataset\u001b[0m:\u001b[36m48\u001b[0m - \u001b[1mCreating dataloaders\u001b[0m\n",
      "\u001b[32m2025-01-11 18:23:14.703\u001b[0m | \u001b[1mINFO    \u001b[0m | \u001b[36mactive_vision.core\u001b[0m:\u001b[36mload_dataset\u001b[0m:\u001b[36m59\u001b[0m - \u001b[1mCreating learner\u001b[0m\n",
      "\u001b[32m2025-01-11 18:23:14.832\u001b[0m | \u001b[1mINFO    \u001b[0m | \u001b[36mactive_vision.core\u001b[0m:\u001b[36mload_dataset\u001b[0m:\u001b[36m62\u001b[0m - \u001b[1mDone. Ready to train.\u001b[0m\n"
     ]
    }
   ],
   "source": [
    "al.load_dataset(df, \"filepath\", \"label\")"
   ]
  },
  {
   "cell_type": "code",
   "execution_count": 4,
   "metadata": {},
   "outputs": [
    {
     "data": {
      "text/html": [
       "<div>\n",
       "<style scoped>\n",
       "    .dataframe tbody tr th:only-of-type {\n",
       "        vertical-align: middle;\n",
       "    }\n",
       "\n",
       "    .dataframe tbody tr th {\n",
       "        vertical-align: top;\n",
       "    }\n",
       "\n",
       "    .dataframe thead th {\n",
       "        text-align: right;\n",
       "    }\n",
       "</style>\n",
       "<table border=\"1\" class=\"dataframe\">\n",
       "  <thead>\n",
       "    <tr style=\"text-align: right;\">\n",
       "      <th></th>\n",
       "      <th>filepath</th>\n",
       "      <th>label</th>\n",
       "    </tr>\n",
       "  </thead>\n",
       "  <tbody>\n",
       "    <tr>\n",
       "      <th>0</th>\n",
       "      <td>data/imagenette/2/00346.jpg</td>\n",
       "      <td>cassette player</td>\n",
       "    </tr>\n",
       "    <tr>\n",
       "      <th>1</th>\n",
       "      <td>data/imagenette/2/00845.jpg</td>\n",
       "      <td>cassette player</td>\n",
       "    </tr>\n",
       "    <tr>\n",
       "      <th>2</th>\n",
       "      <td>data/imagenette/2/00383.jpg</td>\n",
       "      <td>cassette player</td>\n",
       "    </tr>\n",
       "    <tr>\n",
       "      <th>3</th>\n",
       "      <td>data/imagenette/2/00503.jpg</td>\n",
       "      <td>cassette player</td>\n",
       "    </tr>\n",
       "    <tr>\n",
       "      <th>4</th>\n",
       "      <td>data/imagenette/2/00002.jpg</td>\n",
       "      <td>cassette player</td>\n",
       "    </tr>\n",
       "    <tr>\n",
       "      <th>...</th>\n",
       "      <td>...</td>\n",
       "      <td>...</td>\n",
       "    </tr>\n",
       "    <tr>\n",
       "      <th>95</th>\n",
       "      <td>data/imagenette/5/09030.jpg</td>\n",
       "      <td>French horn</td>\n",
       "    </tr>\n",
       "    <tr>\n",
       "      <th>96</th>\n",
       "      <td>data/imagenette/5/09299.jpg</td>\n",
       "      <td>French horn</td>\n",
       "    </tr>\n",
       "    <tr>\n",
       "      <th>97</th>\n",
       "      <td>data/imagenette/5/09018.jpg</td>\n",
       "      <td>French horn</td>\n",
       "    </tr>\n",
       "    <tr>\n",
       "      <th>98</th>\n",
       "      <td>data/imagenette/5/08529.jpg</td>\n",
       "      <td>French horn</td>\n",
       "    </tr>\n",
       "    <tr>\n",
       "      <th>99</th>\n",
       "      <td>data/imagenette/5/08680.jpg</td>\n",
       "      <td>French horn</td>\n",
       "    </tr>\n",
       "  </tbody>\n",
       "</table>\n",
       "<p>100 rows × 2 columns</p>\n",
       "</div>"
      ],
      "text/plain": [
       "                       filepath            label\n",
       "0   data/imagenette/2/00346.jpg  cassette player\n",
       "1   data/imagenette/2/00845.jpg  cassette player\n",
       "2   data/imagenette/2/00383.jpg  cassette player\n",
       "3   data/imagenette/2/00503.jpg  cassette player\n",
       "4   data/imagenette/2/00002.jpg  cassette player\n",
       "..                          ...              ...\n",
       "95  data/imagenette/5/09030.jpg      French horn\n",
       "96  data/imagenette/5/09299.jpg      French horn\n",
       "97  data/imagenette/5/09018.jpg      French horn\n",
       "98  data/imagenette/5/08529.jpg      French horn\n",
       "99  data/imagenette/5/08680.jpg      French horn\n",
       "\n",
       "[100 rows x 2 columns]"
      ]
     },
     "execution_count": 4,
     "metadata": {},
     "output_type": "execute_result"
    }
   ],
   "source": [
    "al.train_set"
   ]
  },
  {
   "cell_type": "code",
   "execution_count": 5,
   "metadata": {},
   "outputs": [
    {
     "name": "stderr",
     "output_type": "stream",
     "text": [
      "\u001b[32m2025-01-11 18:23:14.845\u001b[0m | \u001b[1mINFO    \u001b[0m | \u001b[36mactive_vision.core\u001b[0m:\u001b[36mlr_find\u001b[0m:\u001b[36m65\u001b[0m - \u001b[1mFinding optimal learning rate\u001b[0m\n"
     ]
    },
    {
     "data": {
      "text/html": [
       "\n",
       "<style>\n",
       "    /* Turns off some styling */\n",
       "    progress {\n",
       "        /* gets rid of default border in Firefox and Opera. */\n",
       "        border: none;\n",
       "        /* Needs to be in here for Safari polyfill so background images work as expected. */\n",
       "        background-size: auto;\n",
       "    }\n",
       "    progress:not([value]), progress:not([value])::-webkit-progress-bar {\n",
       "        background: repeating-linear-gradient(45deg, #7e7e7e, #7e7e7e 10px, #5c5c5c 10px, #5c5c5c 20px);\n",
       "    }\n",
       "    .progress-bar-interrupted, .progress-bar-interrupted::-webkit-progress-bar {\n",
       "        background: #F44336;\n",
       "    }\n",
       "</style>\n"
      ],
      "text/plain": [
       "<IPython.core.display.HTML object>"
      ]
     },
     "metadata": {},
     "output_type": "display_data"
    },
    {
     "data": {
      "text/html": [],
      "text/plain": [
       "<IPython.core.display.HTML object>"
      ]
     },
     "metadata": {},
     "output_type": "display_data"
    },
    {
     "name": "stderr",
     "output_type": "stream",
     "text": [
      "\u001b[32m2025-01-11 18:23:25.624\u001b[0m | \u001b[1mINFO    \u001b[0m | \u001b[36mactive_vision.core\u001b[0m:\u001b[36mlr_find\u001b[0m:\u001b[36m67\u001b[0m - \u001b[1mOptimal learning rate: 0.0012022644514217973\u001b[0m\n"
     ]
    },
    {
     "data": {
      "image/png": "[encoded data removed]",
      "text/plain": [
       "<Figure size 640x480 with 1 Axes>"
      ]
     },
     "metadata": {},
     "output_type": "display_data"
    }
   ],
   "source": [
    "al.lr_find()"
   ]
  },
  {
   "cell_type": "code",
   "execution_count": 6,
   "metadata": {},
   "outputs": [
    {
     "name": "stderr",
     "output_type": "stream",
     "text": [
      "\u001b[32m2025-01-11 18:23:25.874\u001b[0m | \u001b[1mINFO    \u001b[0m | \u001b[36mactive_vision.core\u001b[0m:\u001b[36mtrain\u001b[0m:\u001b[36m70\u001b[0m - \u001b[1mTraining for 3 epochs with learning rate: 0.001\u001b[0m\n"
     ]
    },
    {
     "data": {
      "text/html": [
       "\n",
       "<style>\n",
       "    /* Turns off some styling */\n",
       "    progress {\n",
       "        /* gets rid of default border in Firefox and Opera. */\n",
       "        border: none;\n",
       "        /* Needs to be in here for Safari polyfill so background images work as expected. */\n",
       "        background-size: auto;\n",
       "    }\n",
       "    progress:not([value]), progress:not([value])::-webkit-progress-bar {\n",
       "        background: repeating-linear-gradient(45deg, #7e7e7e, #7e7e7e 10px, #5c5c5c 10px, #5c5c5c 20px);\n",
       "    }\n",
       "    .progress-bar-interrupted, .progress-bar-interrupted::-webkit-progress-bar {\n",
       "        background: #F44336;\n",
       "    }\n",
       "</style>\n"
      ],
      "text/plain": [
       "<IPython.core.display.HTML object>"
      ]
     },
     "metadata": {},
     "output_type": "display_data"
    },
    {
     "data": {
      "text/html": [
       "<table border=\"1\" class=\"dataframe\">\n",
       "  <thead>\n",
       "    <tr style=\"text-align: left;\">\n",
       "      <th>epoch</th>\n",
       "      <th>train_loss</th>\n",
       "      <th>valid_loss</th>\n",
       "      <th>accuracy</th>\n",
       "      <th>time</th>\n",
       "    </tr>\n",
       "  </thead>\n",
       "  <tbody>\n",
       "    <tr>\n",
       "      <td>0</td>\n",
       "      <td>3.104823</td>\n",
       "      <td>3.132335</td>\n",
       "      <td>0.250000</td>\n",
       "      <td>00:01</td>\n",
       "    </tr>\n",
       "  </tbody>\n",
       "</table>"
      ],
      "text/plain": [
       "<IPython.core.display.HTML object>"
      ]
     },
     "metadata": {},
     "output_type": "display_data"
    },
    {
     "data": {
      "image/png": "[encoded data removed]",
      "text/plain": [
       "<Figure size 600x400 with 1 Axes>"
      ]
     },
     "metadata": {},
     "output_type": "display_data"
    },
    {
     "data": {
      "text/html": [
       "\n",
       "<style>\n",
       "    /* Turns off some styling */\n",
       "    progress {\n",
       "        /* gets rid of default border in Firefox and Opera. */\n",
       "        border: none;\n",
       "        /* Needs to be in here for Safari polyfill so background images work as expected. */\n",
       "        background-size: auto;\n",
       "    }\n",
       "    progress:not([value]), progress:not([value])::-webkit-progress-bar {\n",
       "        background: repeating-linear-gradient(45deg, #7e7e7e, #7e7e7e 10px, #5c5c5c 10px, #5c5c5c 20px);\n",
       "    }\n",
       "    .progress-bar-interrupted, .progress-bar-interrupted::-webkit-progress-bar {\n",
       "        background: #F44336;\n",
       "    }\n",
       "</style>\n"
      ],
      "text/plain": [
       "<IPython.core.display.HTML object>"
      ]
     },
     "metadata": {},
     "output_type": "display_data"
    },
    {
     "data": {
      "text/html": [
       "<table border=\"1\" class=\"dataframe\">\n",
       "  <thead>\n",
       "    <tr style=\"text-align: left;\">\n",
       "      <th>epoch</th>\n",
       "      <th>train_loss</th>\n",
       "      <th>valid_loss</th>\n",
       "      <th>accuracy</th>\n",
       "      <th>time</th>\n",
       "    </tr>\n",
       "  </thead>\n",
       "  <tbody>\n",
       "    <tr>\n",
       "      <td>0</td>\n",
       "      <td>2.508076</td>\n",
       "      <td>2.174976</td>\n",
       "      <td>0.350000</td>\n",
       "      <td>00:01</td>\n",
       "    </tr>\n",
       "    <tr>\n",
       "      <td>1</td>\n",
       "      <td>2.121377</td>\n",
       "      <td>1.296451</td>\n",
       "      <td>0.600000</td>\n",
       "      <td>00:01</td>\n",
       "    </tr>\n",
       "    <tr>\n",
       "      <td>2</td>\n",
       "      <td>1.676425</td>\n",
       "      <td>1.108575</td>\n",
       "      <td>0.700000</td>\n",
       "      <td>00:01</td>\n",
       "    </tr>\n",
       "  </tbody>\n",
       "</table>"
      ],
      "text/plain": [
       "<IPython.core.display.HTML object>"
      ]
     },
     "metadata": {},
     "output_type": "display_data"
    },
    {
     "data": {
      "image/png": "[encoded data removed]",
      "text/plain": [
       "<Figure size 600x400 with 1 Axes>"
      ]
     },
     "metadata": {},
     "output_type": "display_data"
    }
   ],
   "source": [
    "al.train(epochs=3, lr=1e-3)"
   ]
  },
  {
   "cell_type": "code",
   "execution_count": 7,
   "metadata": {},
   "outputs": [
    {
     "data": {
      "text/html": [
       "<div>\n",
       "<style scoped>\n",
       "    .dataframe tbody tr th:only-of-type {\n",
       "        vertical-align: middle;\n",
       "    }\n",
       "\n",
       "    .dataframe tbody tr th {\n",
       "        vertical-align: top;\n",
       "    }\n",
       "\n",
       "    .dataframe thead th {\n",
       "        text-align: right;\n",
       "    }\n",
       "</style>\n",
       "<table border=\"1\" class=\"dataframe\">\n",
       "  <thead>\n",
       "    <tr style=\"text-align: right;\">\n",
       "      <th></th>\n",
       "      <th>filepath</th>\n",
       "      <th>label</th>\n",
       "    </tr>\n",
       "  </thead>\n",
       "  <tbody>\n",
       "    <tr>\n",
       "      <th>0</th>\n",
       "      <td>data/imagenette/2/00000.jpg</td>\n",
       "      <td>cassette player</td>\n",
       "    </tr>\n",
       "    <tr>\n",
       "      <th>1</th>\n",
       "      <td>data/imagenette/2/00001.jpg</td>\n",
       "      <td>cassette player</td>\n",
       "    </tr>\n",
       "    <tr>\n",
       "      <th>2</th>\n",
       "      <td>data/imagenette/2/00002.jpg</td>\n",
       "      <td>cassette player</td>\n",
       "    </tr>\n",
       "    <tr>\n",
       "      <th>3</th>\n",
       "      <td>data/imagenette/2/00003.jpg</td>\n",
       "      <td>cassette player</td>\n",
       "    </tr>\n",
       "    <tr>\n",
       "      <th>4</th>\n",
       "      <td>data/imagenette/2/00004.jpg</td>\n",
       "      <td>cassette player</td>\n",
       "    </tr>\n",
       "    <tr>\n",
       "      <th>...</th>\n",
       "      <td>...</td>\n",
       "      <td>...</td>\n",
       "    </tr>\n",
       "    <tr>\n",
       "      <th>3920</th>\n",
       "      <td>data/imagenette/5/03920.jpg</td>\n",
       "      <td>French horn</td>\n",
       "    </tr>\n",
       "    <tr>\n",
       "      <th>3921</th>\n",
       "      <td>data/imagenette/5/03921.jpg</td>\n",
       "      <td>French horn</td>\n",
       "    </tr>\n",
       "    <tr>\n",
       "      <th>3922</th>\n",
       "      <td>data/imagenette/5/03922.jpg</td>\n",
       "      <td>French horn</td>\n",
       "    </tr>\n",
       "    <tr>\n",
       "      <th>3923</th>\n",
       "      <td>data/imagenette/5/03923.jpg</td>\n",
       "      <td>French horn</td>\n",
       "    </tr>\n",
       "    <tr>\n",
       "      <th>3924</th>\n",
       "      <td>data/imagenette/5/03924.jpg</td>\n",
       "      <td>French horn</td>\n",
       "    </tr>\n",
       "  </tbody>\n",
       "</table>\n",
       "<p>3925 rows × 2 columns</p>\n",
       "</div>"
      ],
      "text/plain": [
       "                         filepath            label\n",
       "0     data/imagenette/2/00000.jpg  cassette player\n",
       "1     data/imagenette/2/00001.jpg  cassette player\n",
       "2     data/imagenette/2/00002.jpg  cassette player\n",
       "3     data/imagenette/2/00003.jpg  cassette player\n",
       "4     data/imagenette/2/00004.jpg  cassette player\n",
       "...                           ...              ...\n",
       "3920  data/imagenette/5/03920.jpg      French horn\n",
       "3921  data/imagenette/5/03921.jpg      French horn\n",
       "3922  data/imagenette/5/03922.jpg      French horn\n",
       "3923  data/imagenette/5/03923.jpg      French horn\n",
       "3924  data/imagenette/5/03924.jpg      French horn\n",
       "\n",
       "[3925 rows x 2 columns]"
      ]
     },
     "execution_count": 7,
     "metadata": {},
     "output_type": "execute_result"
    }
   ],
   "source": [
    "## Evaluate\n",
    "\n",
    "import pandas as pd\n",
    "\n",
    "eval_df = pd.read_parquet(\"evaluation_samples.parquet\")\n",
    "eval_df.rename(columns={\"label_name\": \"label\"}, inplace=True)\n",
    "eval_df\n"
   ]
  },
  {
   "cell_type": "code",
   "execution_count": 8,
   "metadata": {},
   "outputs": [
    {
     "data": {
      "text/html": [
       "\n",
       "<style>\n",
       "    /* Turns off some styling */\n",
       "    progress {\n",
       "        /* gets rid of default border in Firefox and Opera. */\n",
       "        border: none;\n",
       "        /* Needs to be in here for Safari polyfill so background images work as expected. */\n",
       "        background-size: auto;\n",
       "    }\n",
       "    progress:not([value]), progress:not([value])::-webkit-progress-bar {\n",
       "        background: repeating-linear-gradient(45deg, #7e7e7e, #7e7e7e 10px, #5c5c5c 10px, #5c5c5c 20px);\n",
       "    }\n",
       "    .progress-bar-interrupted, .progress-bar-interrupted::-webkit-progress-bar {\n",
       "        background: #F44336;\n",
       "    }\n",
       "</style>\n"
      ],
      "text/plain": [
       "<IPython.core.display.HTML object>"
      ]
     },
     "metadata": {},
     "output_type": "display_data"
    },
    {
     "data": {
      "text/html": [],
      "text/plain": [
       "<IPython.core.display.HTML object>"
      ]
     },
     "metadata": {},
     "output_type": "display_data"
    },
    {
     "name": "stderr",
     "output_type": "stream",
     "text": [
      "\u001b[32m2025-01-11 18:23:34.597\u001b[0m | \u001b[1mINFO    \u001b[0m | \u001b[36mactive_vision.core\u001b[0m:\u001b[36mevaluate\u001b[0m:\u001b[36m110\u001b[0m - \u001b[1mAccuracy: 76.56%\u001b[0m\n"
     ]
    },
    {
     "data": {
      "text/plain": [
       "0.7656050955414013"
      ]
     },
     "execution_count": 8,
     "metadata": {},
     "output_type": "execute_result"
    }
   ],
   "source": [
    "al.evaluate(eval_df, \"filepath\", \"label\")"
   ]
  },
  {
   "cell_type": "code",
   "execution_count": null,
   "metadata": {},
   "outputs": [],
   "source": [
    "import pandas as pd\n",
    "\n",
    "df = pd.read_parquet(\"evaluation_samples.parquet\").drop(columns=[\"label_name\"])\n",
    "filepaths = df[\"filepath\"].tolist()\n",
    "\n",
    "filepaths\n"
   ]
  },
  {
   "cell_type": "code",
   "execution_count": null,
   "metadata": {},
   "outputs": [],
   "source": [
    "al.predict(filepaths, batch_size=128)"
   ]
  },
  {
   "cell_type": "code",
   "execution_count": null,
   "metadata": {},
   "outputs": [],
   "source": [
    "uncertain_df = al.sample_uncertain(10)\n",
    "uncertain_df"
   ]
  },
  {
   "cell_type": "code",
   "execution_count": null,
   "metadata": {},
   "outputs": [],
   "source": [
    "al.add_to_train_set(uncertain_df)"
   ]
  },
  {
   "cell_type": "code",
   "execution_count": null,
   "metadata": {},
   "outputs": [],
   "source": [
    "al.train_set"
   ]
  },
  {
   "cell_type": "code",
   "execution_count": null,
   "metadata": {},
   "outputs": [],
   "source": []
  }
 ],
 "metadata": {
  "kernelspec": {
   "display_name": ".venv",
   "language": "python",
   "name": "python3"
  },
  "language_info": {
   "codemirror_mode": {
    "name": "ipython",
    "version": 3
   },
   "file_extension": ".py",
   "mimetype": "text/x-python",
   "name": "python",
   "nbconvert_exporter": "python",
   "pygments_lexer": "ipython3",
   "version": "3.12.8"
  }
 },
 "nbformat": 4,
 "nbformat_minor": 2
}
