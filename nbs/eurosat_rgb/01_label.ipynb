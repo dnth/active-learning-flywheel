{
 "cells": [
  {
   "cell_type": "code",
   "execution_count": 1,
   "metadata": {},
   "outputs": [
    {
     "data": {
      "text/html": [
       "<div>\n",
       "<style scoped>\n",
       "    .dataframe tbody tr th:only-of-type {\n",
       "        vertical-align: middle;\n",
       "    }\n",
       "\n",
       "    .dataframe tbody tr th {\n",
       "        vertical-align: top;\n",
       "    }\n",
       "\n",
       "    .dataframe thead th {\n",
       "        text-align: right;\n",
       "    }\n",
       "</style>\n",
       "<table border=\"1\" class=\"dataframe\">\n",
       "  <thead>\n",
       "    <tr style=\"text-align: right;\">\n",
       "      <th></th>\n",
       "      <th>filename</th>\n",
       "      <th>filepath</th>\n",
       "      <th>label</th>\n",
       "    </tr>\n",
       "  </thead>\n",
       "  <tbody>\n",
       "    <tr>\n",
       "      <th>0</th>\n",
       "      <td>AnnualCrop_2216.tif</td>\n",
       "      <td>data/eurosat_rgb/0/AnnualCrop_2216.jpg</td>\n",
       "      <td>Annual Crop</td>\n",
       "    </tr>\n",
       "    <tr>\n",
       "      <th>1</th>\n",
       "      <td>AnnualCrop_1331.tif</td>\n",
       "      <td>data/eurosat_rgb/0/AnnualCrop_1331.jpg</td>\n",
       "      <td>Annual Crop</td>\n",
       "    </tr>\n",
       "    <tr>\n",
       "      <th>2</th>\n",
       "      <td>AnnualCrop_631.tif</td>\n",
       "      <td>data/eurosat_rgb/0/AnnualCrop_631.jpg</td>\n",
       "      <td>Annual Crop</td>\n",
       "    </tr>\n",
       "    <tr>\n",
       "      <th>3</th>\n",
       "      <td>AnnualCrop_2904.tif</td>\n",
       "      <td>data/eurosat_rgb/0/AnnualCrop_2904.jpg</td>\n",
       "      <td>Annual Crop</td>\n",
       "    </tr>\n",
       "    <tr>\n",
       "      <th>4</th>\n",
       "      <td>AnnualCrop_1963.tif</td>\n",
       "      <td>data/eurosat_rgb/0/AnnualCrop_1963.jpg</td>\n",
       "      <td>Annual Crop</td>\n",
       "    </tr>\n",
       "    <tr>\n",
       "      <th>...</th>\n",
       "      <td>...</td>\n",
       "      <td>...</td>\n",
       "      <td>...</td>\n",
       "    </tr>\n",
       "    <tr>\n",
       "      <th>883</th>\n",
       "      <td>None</td>\n",
       "      <td>data/eurosat_rgb/9/SeaLake_466.jpg</td>\n",
       "      <td>SeaLake</td>\n",
       "    </tr>\n",
       "    <tr>\n",
       "      <th>884</th>\n",
       "      <td>None</td>\n",
       "      <td>data/eurosat_rgb/0/AnnualCrop_2045.jpg</td>\n",
       "      <td>Annual Crop</td>\n",
       "    </tr>\n",
       "    <tr>\n",
       "      <th>885</th>\n",
       "      <td>None</td>\n",
       "      <td>data/eurosat_rgb/0/AnnualCrop_1436.jpg</td>\n",
       "      <td>Annual Crop</td>\n",
       "    </tr>\n",
       "    <tr>\n",
       "      <th>886</th>\n",
       "      <td>None</td>\n",
       "      <td>data/eurosat_rgb/8/River_1624.jpg</td>\n",
       "      <td>River</td>\n",
       "    </tr>\n",
       "    <tr>\n",
       "      <th>887</th>\n",
       "      <td>None</td>\n",
       "      <td>data/eurosat_rgb/2/HerbaceousVegetation_2514.jpg</td>\n",
       "      <td>Herbaceous Vegetation</td>\n",
       "    </tr>\n",
       "  </tbody>\n",
       "</table>\n",
       "<p>888 rows × 3 columns</p>\n",
       "</div>"
      ],
      "text/plain": [
       "                filename                                          filepath  \\\n",
       "0    AnnualCrop_2216.tif            data/eurosat_rgb/0/AnnualCrop_2216.jpg   \n",
       "1    AnnualCrop_1331.tif            data/eurosat_rgb/0/AnnualCrop_1331.jpg   \n",
       "2     AnnualCrop_631.tif             data/eurosat_rgb/0/AnnualCrop_631.jpg   \n",
       "3    AnnualCrop_2904.tif            data/eurosat_rgb/0/AnnualCrop_2904.jpg   \n",
       "4    AnnualCrop_1963.tif            data/eurosat_rgb/0/AnnualCrop_1963.jpg   \n",
       "..                   ...                                               ...   \n",
       "883                 None                data/eurosat_rgb/9/SeaLake_466.jpg   \n",
       "884                 None            data/eurosat_rgb/0/AnnualCrop_2045.jpg   \n",
       "885                 None            data/eurosat_rgb/0/AnnualCrop_1436.jpg   \n",
       "886                 None                 data/eurosat_rgb/8/River_1624.jpg   \n",
       "887                 None  data/eurosat_rgb/2/HerbaceousVegetation_2514.jpg   \n",
       "\n",
       "                     label  \n",
       "0              Annual Crop  \n",
       "1              Annual Crop  \n",
       "2              Annual Crop  \n",
       "3              Annual Crop  \n",
       "4              Annual Crop  \n",
       "..                     ...  \n",
       "883                SeaLake  \n",
       "884            Annual Crop  \n",
       "885            Annual Crop  \n",
       "886                  River  \n",
       "887  Herbaceous Vegetation  \n",
       "\n",
       "[888 rows x 3 columns]"
      ]
     },
     "execution_count": 1,
     "metadata": {},
     "output_type": "execute_result"
    }
   ],
   "source": [
    "import pandas as pd\n",
    "\n",
    "# df = pd.read_parquet(\"data/eurosat_rgb/initial_samples.parquet\")\n",
    "df = pd.read_parquet(\"active_labeled.parquet\")\n",
    "df\n"
   ]
  },
  {
   "cell_type": "code",
   "execution_count": 2,
   "metadata": {},
   "outputs": [
    {
     "data": {
      "text/plain": [
       "label\n",
       "Herbaceous Vegetation    146\n",
       "Highway                  120\n",
       "Permanent Crop           112\n",
       "Annual Crop              108\n",
       "Pasture                  103\n",
       "River                    101\n",
       "SeaLake                   62\n",
       "Forest                    54\n",
       "Industrial Buildings      42\n",
       "Residential Buildings     40\n",
       "Name: count, dtype: int64"
      ]
     },
     "execution_count": 2,
     "metadata": {},
     "output_type": "execute_result"
    }
   ],
   "source": [
    "df[\"label\"].value_counts()"
   ]
  },
  {
   "cell_type": "code",
   "execution_count": 3,
   "metadata": {},
   "outputs": [
    {
     "name": "stderr",
     "output_type": "stream",
     "text": [
      "\u001b[32m2025-01-22 13:04:45.037\u001b[0m | \u001b[1mINFO    \u001b[0m | \u001b[36mactive_vision.core\u001b[0m:\u001b[36mload_model\u001b[0m:\u001b[36m39\u001b[0m - \u001b[1mLoading fastai model resnet18\u001b[0m\n"
     ]
    }
   ],
   "source": [
    "from active_vision import ActiveLearner\n",
    "from fastai.vision.models.all import resnet18\n",
    "from fastai.vision.all import aug_transforms\n",
    "\n",
    "al = ActiveLearner(resnet18)"
   ]
  },
  {
   "cell_type": "code",
   "execution_count": 4,
   "metadata": {},
   "outputs": [
    {
     "name": "stderr",
     "output_type": "stream",
     "text": [
      "\u001b[32m2025-01-22 13:04:45.043\u001b[0m | \u001b[1mINFO    \u001b[0m | \u001b[36mactive_vision.core\u001b[0m:\u001b[36mload_dataset\u001b[0m:\u001b[36m57\u001b[0m - \u001b[1mLoading dataset from filepath and label\u001b[0m\n",
      "\u001b[32m2025-01-22 13:04:45.044\u001b[0m | \u001b[1mINFO    \u001b[0m | \u001b[36mactive_vision.core\u001b[0m:\u001b[36mload_dataset\u001b[0m:\u001b[36m60\u001b[0m - \u001b[1mCreating dataloaders\u001b[0m\n",
      "\u001b[32m2025-01-22 13:04:45.405\u001b[0m | \u001b[1mINFO    \u001b[0m | \u001b[36mactive_vision.core\u001b[0m:\u001b[36mload_dataset\u001b[0m:\u001b[36m82\u001b[0m - \u001b[1mCreating learner\u001b[0m\n",
      "\u001b[32m2025-01-22 13:04:45.536\u001b[0m | \u001b[1mINFO    \u001b[0m | \u001b[36mactive_vision.core\u001b[0m:\u001b[36mload_dataset\u001b[0m:\u001b[36m89\u001b[0m - \u001b[1mDone. Ready to train.\u001b[0m\n"
     ]
    }
   ],
   "source": [
    "al.load_dataset(df, filepath_col=\"filepath\", label_col=\"label\", \n",
    "                batch_size=16,\n",
    "                image_size=64,\n",
    "                batch_tfms=aug_transforms(size=64))"
   ]
  },
  {
   "cell_type": "code",
   "execution_count": 5,
   "metadata": {},
   "outputs": [
    {
     "data": {
      "image/png": "[encoded data removed]",
      "text/plain": [
       "<Figure size 900x900 with 9 Axes>"
      ]
     },
     "metadata": {},
     "output_type": "display_data"
    }
   ],
   "source": [
    "al.show_batch(unique=True)"
   ]
  },
  {
   "cell_type": "code",
   "execution_count": 6,
   "metadata": {},
   "outputs": [],
   "source": [
    "# al.train_set"
   ]
  },
  {
   "cell_type": "code",
   "execution_count": 7,
   "metadata": {},
   "outputs": [],
   "source": [
    "# al.lr_find()"
   ]
  },
  {
   "cell_type": "code",
   "execution_count": 8,
   "metadata": {},
   "outputs": [
    {
     "name": "stderr",
     "output_type": "stream",
     "text": [
      "\u001b[32m2025-01-22 13:04:45.968\u001b[0m | \u001b[1mINFO    \u001b[0m | \u001b[36mactive_vision.core\u001b[0m:\u001b[36mtrain\u001b[0m:\u001b[36m125\u001b[0m - \u001b[1mTraining head for 3 epochs\u001b[0m\n",
      "\u001b[32m2025-01-22 13:04:45.969\u001b[0m | \u001b[1mINFO    \u001b[0m | \u001b[36mactive_vision.core\u001b[0m:\u001b[36mtrain\u001b[0m:\u001b[36m126\u001b[0m - \u001b[1mTraining model end-to-end for 10 epochs\u001b[0m\n",
      "\u001b[32m2025-01-22 13:04:45.969\u001b[0m | \u001b[1mINFO    \u001b[0m | \u001b[36mactive_vision.core\u001b[0m:\u001b[36mtrain\u001b[0m:\u001b[36m127\u001b[0m - \u001b[1mLearning rate: 0.005 with one-cycle learning rate scheduler\u001b[0m\n"
     ]
    },
    {
     "data": {
      "text/html": [
       "\n",
       "<style>\n",
       "    /* Turns off some styling */\n",
       "    progress {\n",
       "        /* gets rid of default border in Firefox and Opera. */\n",
       "        border: none;\n",
       "        /* Needs to be in here for Safari polyfill so background images work as expected. */\n",
       "        background-size: auto;\n",
       "    }\n",
       "    progress:not([value]), progress:not([value])::-webkit-progress-bar {\n",
       "        background: repeating-linear-gradient(45deg, #7e7e7e, #7e7e7e 10px, #5c5c5c 10px, #5c5c5c 20px);\n",
       "    }\n",
       "    .progress-bar-interrupted, .progress-bar-interrupted::-webkit-progress-bar {\n",
       "        background: #F44336;\n",
       "    }\n",
       "</style>\n"
      ],
      "text/plain": [
       "<IPython.core.display.HTML object>"
      ]
     },
     "metadata": {},
     "output_type": "display_data"
    },
    {
     "data": {
      "text/html": [
       "<table border=\"1\" class=\"dataframe\">\n",
       "  <thead>\n",
       "    <tr style=\"text-align: left;\">\n",
       "      <th>epoch</th>\n",
       "      <th>train_loss</th>\n",
       "      <th>valid_loss</th>\n",
       "      <th>accuracy</th>\n",
       "      <th>time</th>\n",
       "    </tr>\n",
       "  </thead>\n",
       "  <tbody>\n",
       "    <tr>\n",
       "      <td>0</td>\n",
       "      <td>3.036459</td>\n",
       "      <td>2.095444</td>\n",
       "      <td>0.333333</td>\n",
       "      <td>00:02</td>\n",
       "    </tr>\n",
       "    <tr>\n",
       "      <td>1</td>\n",
       "      <td>2.520550</td>\n",
       "      <td>1.866680</td>\n",
       "      <td>0.429379</td>\n",
       "      <td>00:02</td>\n",
       "    </tr>\n",
       "    <tr>\n",
       "      <td>2</td>\n",
       "      <td>2.260876</td>\n",
       "      <td>2.087885</td>\n",
       "      <td>0.423729</td>\n",
       "      <td>00:02</td>\n",
       "    </tr>\n",
       "  </tbody>\n",
       "</table>"
      ],
      "text/plain": [
       "<IPython.core.display.HTML object>"
      ]
     },
     "metadata": {},
     "output_type": "display_data"
    },
    {
     "data": {
      "image/png": "[encoded data removed]",
      "text/plain": [
       "<Figure size 600x400 with 1 Axes>"
      ]
     },
     "metadata": {},
     "output_type": "display_data"
    },
    {
     "data": {
      "text/html": [
       "\n",
       "<style>\n",
       "    /* Turns off some styling */\n",
       "    progress {\n",
       "        /* gets rid of default border in Firefox and Opera. */\n",
       "        border: none;\n",
       "        /* Needs to be in here for Safari polyfill so background images work as expected. */\n",
       "        background-size: auto;\n",
       "    }\n",
       "    progress:not([value]), progress:not([value])::-webkit-progress-bar {\n",
       "        background: repeating-linear-gradient(45deg, #7e7e7e, #7e7e7e 10px, #5c5c5c 10px, #5c5c5c 20px);\n",
       "    }\n",
       "    .progress-bar-interrupted, .progress-bar-interrupted::-webkit-progress-bar {\n",
       "        background: #F44336;\n",
       "    }\n",
       "</style>\n"
      ],
      "text/plain": [
       "<IPython.core.display.HTML object>"
      ]
     },
     "metadata": {},
     "output_type": "display_data"
    },
    {
     "data": {
      "text/html": [
       "<table border=\"1\" class=\"dataframe\">\n",
       "  <thead>\n",
       "    <tr style=\"text-align: left;\">\n",
       "      <th>epoch</th>\n",
       "      <th>train_loss</th>\n",
       "      <th>valid_loss</th>\n",
       "      <th>accuracy</th>\n",
       "      <th>time</th>\n",
       "    </tr>\n",
       "  </thead>\n",
       "  <tbody>\n",
       "    <tr>\n",
       "      <td>0</td>\n",
       "      <td>1.889158</td>\n",
       "      <td>1.870166</td>\n",
       "      <td>0.457627</td>\n",
       "      <td>00:02</td>\n",
       "    </tr>\n",
       "    <tr>\n",
       "      <td>1</td>\n",
       "      <td>1.680672</td>\n",
       "      <td>1.566417</td>\n",
       "      <td>0.548023</td>\n",
       "      <td>00:02</td>\n",
       "    </tr>\n",
       "    <tr>\n",
       "      <td>2</td>\n",
       "      <td>1.484672</td>\n",
       "      <td>2.044858</td>\n",
       "      <td>0.480226</td>\n",
       "      <td>00:04</td>\n",
       "    </tr>\n",
       "    <tr>\n",
       "      <td>3</td>\n",
       "      <td>1.307247</td>\n",
       "      <td>1.494527</td>\n",
       "      <td>0.559322</td>\n",
       "      <td>00:03</td>\n",
       "    </tr>\n",
       "    <tr>\n",
       "      <td>4</td>\n",
       "      <td>1.213590</td>\n",
       "      <td>1.367796</td>\n",
       "      <td>0.598870</td>\n",
       "      <td>00:03</td>\n",
       "    </tr>\n",
       "    <tr>\n",
       "      <td>5</td>\n",
       "      <td>1.003727</td>\n",
       "      <td>1.089411</td>\n",
       "      <td>0.661017</td>\n",
       "      <td>00:03</td>\n",
       "    </tr>\n",
       "    <tr>\n",
       "      <td>6</td>\n",
       "      <td>0.845993</td>\n",
       "      <td>1.074652</td>\n",
       "      <td>0.655367</td>\n",
       "      <td>00:03</td>\n",
       "    </tr>\n",
       "    <tr>\n",
       "      <td>7</td>\n",
       "      <td>0.673079</td>\n",
       "      <td>0.997636</td>\n",
       "      <td>0.666667</td>\n",
       "      <td>00:03</td>\n",
       "    </tr>\n",
       "    <tr>\n",
       "      <td>8</td>\n",
       "      <td>0.543352</td>\n",
       "      <td>1.017826</td>\n",
       "      <td>0.700565</td>\n",
       "      <td>00:03</td>\n",
       "    </tr>\n",
       "    <tr>\n",
       "      <td>9</td>\n",
       "      <td>0.475239</td>\n",
       "      <td>0.986390</td>\n",
       "      <td>0.694915</td>\n",
       "      <td>00:03</td>\n",
       "    </tr>\n",
       "  </tbody>\n",
       "</table>"
      ],
      "text/plain": [
       "<IPython.core.display.HTML object>"
      ]
     },
     "metadata": {},
     "output_type": "display_data"
    },
    {
     "data": {
      "image/png": "[encoded data removed]",
      "text/plain": [
       "<Figure size 600x400 with 1 Axes>"
      ]
     },
     "metadata": {},
     "output_type": "display_data"
    }
   ],
   "source": [
    "al.train(epochs=10, lr=5e-3, head_tuning_epochs=3)"
   ]
  },
  {
   "cell_type": "markdown",
   "metadata": {},
   "source": [
    "## Evaluate the model on a *labeled* evaluation set"
   ]
  },
  {
   "cell_type": "code",
   "execution_count": 9,
   "metadata": {},
   "outputs": [
    {
     "data": {
      "text/html": [
       "\n",
       "<style>\n",
       "    /* Turns off some styling */\n",
       "    progress {\n",
       "        /* gets rid of default border in Firefox and Opera. */\n",
       "        border: none;\n",
       "        /* Needs to be in here for Safari polyfill so background images work as expected. */\n",
       "        background-size: auto;\n",
       "    }\n",
       "    progress:not([value]), progress:not([value])::-webkit-progress-bar {\n",
       "        background: repeating-linear-gradient(45deg, #7e7e7e, #7e7e7e 10px, #5c5c5c 10px, #5c5c5c 20px);\n",
       "    }\n",
       "    .progress-bar-interrupted, .progress-bar-interrupted::-webkit-progress-bar {\n",
       "        background: #F44336;\n",
       "    }\n",
       "</style>\n"
      ],
      "text/plain": [
       "<IPython.core.display.HTML object>"
      ]
     },
     "metadata": {},
     "output_type": "display_data"
    },
    {
     "data": {
      "text/html": [],
      "text/plain": [
       "<IPython.core.display.HTML object>"
      ]
     },
     "metadata": {},
     "output_type": "display_data"
    },
    {
     "name": "stderr",
     "output_type": "stream",
     "text": [
      "\u001b[32m2025-01-22 13:05:29.998\u001b[0m | \u001b[1mINFO    \u001b[0m | \u001b[36mactive_vision.core\u001b[0m:\u001b[36mevaluate\u001b[0m:\u001b[36m172\u001b[0m - \u001b[1mAccuracy: 89.80%\u001b[0m\n"
     ]
    },
    {
     "data": {
      "text/plain": [
       "0.897962962962963"
      ]
     },
     "execution_count": 9,
     "metadata": {},
     "output_type": "execute_result"
    }
   ],
   "source": [
    "evaluation_df = pd.read_parquet(\"data/eurosat_rgb/evaluation_samples.parquet\")\n",
    "al.evaluate(evaluation_df, filepath_col=\"filepath\", label_col=\"label\")\n"
   ]
  },
  {
   "cell_type": "markdown",
   "metadata": {},
   "source": [
    "## Get the predictions from an *unlabeled* set"
   ]
  },
  {
   "cell_type": "code",
   "execution_count": 10,
   "metadata": {},
   "outputs": [
    {
     "data": {
      "text/plain": [
       "16100"
      ]
     },
     "execution_count": 10,
     "metadata": {},
     "output_type": "execute_result"
    }
   ],
   "source": [
    "df = pd.read_parquet(\"data/eurosat_rgb/unlabeled_samples.parquet\")\n",
    "filepaths = df[\"filepath\"].tolist()\n",
    "len(filepaths)"
   ]
  },
  {
   "cell_type": "code",
   "execution_count": 11,
   "metadata": {},
   "outputs": [
    {
     "name": "stderr",
     "output_type": "stream",
     "text": [
      "\u001b[32m2025-01-22 13:05:30.023\u001b[0m | \u001b[1mINFO    \u001b[0m | \u001b[36mactive_vision.core\u001b[0m:\u001b[36mpredict\u001b[0m:\u001b[36m136\u001b[0m - \u001b[1mRunning inference on 16100 samples\u001b[0m\n"
     ]
    },
    {
     "data": {
      "text/html": [
       "\n",
       "<style>\n",
       "    /* Turns off some styling */\n",
       "    progress {\n",
       "        /* gets rid of default border in Firefox and Opera. */\n",
       "        border: none;\n",
       "        /* Needs to be in here for Safari polyfill so background images work as expected. */\n",
       "        background-size: auto;\n",
       "    }\n",
       "    progress:not([value]), progress:not([value])::-webkit-progress-bar {\n",
       "        background: repeating-linear-gradient(45deg, #7e7e7e, #7e7e7e 10px, #5c5c5c 10px, #5c5c5c 20px);\n",
       "    }\n",
       "    .progress-bar-interrupted, .progress-bar-interrupted::-webkit-progress-bar {\n",
       "        background: #F44336;\n",
       "    }\n",
       "</style>\n"
      ],
      "text/plain": [
       "<IPython.core.display.HTML object>"
      ]
     },
     "metadata": {},
     "output_type": "display_data"
    },
    {
     "data": {
      "text/html": [],
      "text/plain": [
       "<IPython.core.display.HTML object>"
      ]
     },
     "metadata": {},
     "output_type": "display_data"
    },
    {
     "data": {
      "text/html": [
       "<div>\n",
       "<style scoped>\n",
       "    .dataframe tbody tr th:only-of-type {\n",
       "        vertical-align: middle;\n",
       "    }\n",
       "\n",
       "    .dataframe tbody tr th {\n",
       "        vertical-align: top;\n",
       "    }\n",
       "\n",
       "    .dataframe thead th {\n",
       "        text-align: right;\n",
       "    }\n",
       "</style>\n",
       "<table border=\"1\" class=\"dataframe\">\n",
       "  <thead>\n",
       "    <tr style=\"text-align: right;\">\n",
       "      <th></th>\n",
       "      <th>filepath</th>\n",
       "      <th>pred_label</th>\n",
       "      <th>pred_conf</th>\n",
       "      <th>pred_raw</th>\n",
       "    </tr>\n",
       "  </thead>\n",
       "  <tbody>\n",
       "    <tr>\n",
       "      <th>0</th>\n",
       "      <td>data/eurosat_rgb/0/AnnualCrop_1.jpg</td>\n",
       "      <td>Annual Crop</td>\n",
       "      <td>0.778448</td>\n",
       "      <td>[0.7784482836723328, 0.00013788029900752008, 0.00022522696235682815, 1.2047846212226432e-05, 0.00013923339429311454, 0.001261131837964058, 0.21957141160964966, 3.365729207871482e-05, 7.995501073310152e-05, 9.113331907428801e-05]</td>\n",
       "    </tr>\n",
       "    <tr>\n",
       "      <th>1</th>\n",
       "      <td>data/eurosat_rgb/0/AnnualCrop_10.jpg</td>\n",
       "      <td>Annual Crop</td>\n",
       "      <td>0.987951</td>\n",
       "      <td>[0.9879507422447205, 5.758366114605451e-06, 7.2193748756888e-09, 9.888483987197105e-08, 2.1142511741345515e-06, 2.481484216332319e-06, 2.651073138792981e-08, 1.7633390598348342e-05, 0.004085122141987085, 0.00793603714555502]</td>\n",
       "    </tr>\n",
       "    <tr>\n",
       "      <th>2</th>\n",
       "      <td>data/eurosat_rgb/0/AnnualCrop_100.jpg</td>\n",
       "      <td>Annual Crop</td>\n",
       "      <td>0.999522</td>\n",
       "      <td>[0.9995220899581909, 6.093483989388915e-06, 3.52663801095332e-06, 5.103880539536476e-05, 1.2177656572021078e-05, 4.1458813939243555e-05, 0.00016777934797573835, 3.949647179979365e-06, 0.000170421481016092, 2.1540079615078866e-05]</td>\n",
       "    </tr>\n",
       "    <tr>\n",
       "      <th>3</th>\n",
       "      <td>data/eurosat_rgb/0/AnnualCrop_1000.jpg</td>\n",
       "      <td>Annual Crop</td>\n",
       "      <td>0.999475</td>\n",
       "      <td>[0.999474823474884, 1.402733346367313e-06, 1.7400330762029625e-05, 2.3329112082137726e-05, 1.0860674137802562e-06, 1.4397232916962821e-05, 0.0004600759129971266, 9.325985956820659e-07, 4.102780621906277e-06, 2.4763410237937933e-06]</td>\n",
       "    </tr>\n",
       "    <tr>\n",
       "      <th>4</th>\n",
       "      <td>data/eurosat_rgb/0/AnnualCrop_1001.jpg</td>\n",
       "      <td>Annual Crop</td>\n",
       "      <td>0.968670</td>\n",
       "      <td>[0.9686702489852905, 1.7388271089657792e-06, 7.164062481024303e-07, 1.0861690498131793e-05, 0.001948266290128231, 0.0005378532805480063, 0.02868553437292576, 1.8621271010488272e-05, 5.8717745559988543e-05, 6.758371455362067e-05]</td>\n",
       "    </tr>\n",
       "    <tr>\n",
       "      <th>...</th>\n",
       "      <td>...</td>\n",
       "      <td>...</td>\n",
       "      <td>...</td>\n",
       "      <td>...</td>\n",
       "    </tr>\n",
       "    <tr>\n",
       "      <th>16095</th>\n",
       "      <td>data/eurosat_rgb/9/SeaLake_993.jpg</td>\n",
       "      <td>SeaLake</td>\n",
       "      <td>0.999751</td>\n",
       "      <td>[0.0001012908251141198, 3.102800837950781e-05, 7.152456760195491e-07, 1.6498081834015466e-07, 5.972051076241769e-05, 2.363593921472784e-06, 2.1686319939817622e-07, 1.721076296234969e-05, 3.6328594433143735e-05, 0.9997509121894836]</td>\n",
       "    </tr>\n",
       "    <tr>\n",
       "      <th>16096</th>\n",
       "      <td>data/eurosat_rgb/9/SeaLake_994.jpg</td>\n",
       "      <td>SeaLake</td>\n",
       "      <td>0.999892</td>\n",
       "      <td>[7.440646004397422e-05, 1.5255204743880313e-06, 3.7543532727113416e-08, 6.057410129045593e-09, 2.8742326321662404e-05, 1.1886568245245144e-06, 8.901299253238903e-08, 1.5465204796782928e-06, 8.687910622029449e-07, 0.9998915195465088]</td>\n",
       "    </tr>\n",
       "    <tr>\n",
       "      <th>16097</th>\n",
       "      <td>data/eurosat_rgb/9/SeaLake_995.jpg</td>\n",
       "      <td>SeaLake</td>\n",
       "      <td>0.999946</td>\n",
       "      <td>[2.6687806894187815e-05, 5.946138116996735e-06, 1.0716652809605876e-07, 8.1198017198858e-09, 1.6061005226220004e-05, 1.0378346360084834e-06, 9.512989862514587e-08, 2.3646330191695597e-06, 1.50195171499945e-06, 0.9999462366104126]</td>\n",
       "    </tr>\n",
       "    <tr>\n",
       "      <th>16098</th>\n",
       "      <td>data/eurosat_rgb/9/SeaLake_996.jpg</td>\n",
       "      <td>SeaLake</td>\n",
       "      <td>0.999780</td>\n",
       "      <td>[5.038947711000219e-05, 8.869574958225712e-05, 8.849626738083316e-07, 3.7539329866831395e-08, 5.593971218331717e-05, 3.4090135159203783e-06, 2.237536023130815e-07, 1.1325371815473773e-05, 9.410291568201501e-06, 0.9997796416282654]</td>\n",
       "    </tr>\n",
       "    <tr>\n",
       "      <th>16099</th>\n",
       "      <td>data/eurosat_rgb/9/SeaLake_997.jpg</td>\n",
       "      <td>SeaLake</td>\n",
       "      <td>0.948139</td>\n",
       "      <td>[0.00039008233579806983, 0.04908548668026924, 0.0006156364106573164, 1.0006870070355944e-05, 0.0008298463653773069, 0.00040172861190512776, 3.261956953792833e-05, 0.0003861971490550786, 0.00010959881183225662, 0.9481388330459595]</td>\n",
       "    </tr>\n",
       "  </tbody>\n",
       "</table>\n",
       "<p>16100 rows × 4 columns</p>\n",
       "</div>"
      ],
      "text/plain": [
       "                                     filepath   pred_label  pred_conf  \\\n",
       "0         data/eurosat_rgb/0/AnnualCrop_1.jpg  Annual Crop   0.778448   \n",
       "1        data/eurosat_rgb/0/AnnualCrop_10.jpg  Annual Crop   0.987951   \n",
       "2       data/eurosat_rgb/0/AnnualCrop_100.jpg  Annual Crop   0.999522   \n",
       "3      data/eurosat_rgb/0/AnnualCrop_1000.jpg  Annual Crop   0.999475   \n",
       "4      data/eurosat_rgb/0/AnnualCrop_1001.jpg  Annual Crop   0.968670   \n",
       "...                                       ...          ...        ...   \n",
       "16095      data/eurosat_rgb/9/SeaLake_993.jpg      SeaLake   0.999751   \n",
       "16096      data/eurosat_rgb/9/SeaLake_994.jpg      SeaLake   0.999892   \n",
       "16097      data/eurosat_rgb/9/SeaLake_995.jpg      SeaLake   0.999946   \n",
       "16098      data/eurosat_rgb/9/SeaLake_996.jpg      SeaLake   0.999780   \n",
       "16099      data/eurosat_rgb/9/SeaLake_997.jpg      SeaLake   0.948139   \n",
       "\n",
       "                                                                                                                                                                                                                                       pred_raw  \n",
       "0          [0.7784482836723328, 0.00013788029900752008, 0.00022522696235682815, 1.2047846212226432e-05, 0.00013923339429311454, 0.001261131837964058, 0.21957141160964966, 3.365729207871482e-05, 7.995501073310152e-05, 9.113331907428801e-05]  \n",
       "1              [0.9879507422447205, 5.758366114605451e-06, 7.2193748756888e-09, 9.888483987197105e-08, 2.1142511741345515e-06, 2.481484216332319e-06, 2.651073138792981e-08, 1.7633390598348342e-05, 0.004085122141987085, 0.00793603714555502]  \n",
       "2         [0.9995220899581909, 6.093483989388915e-06, 3.52663801095332e-06, 5.103880539536476e-05, 1.2177656572021078e-05, 4.1458813939243555e-05, 0.00016777934797573835, 3.949647179979365e-06, 0.000170421481016092, 2.1540079615078866e-05]  \n",
       "3       [0.999474823474884, 1.402733346367313e-06, 1.7400330762029625e-05, 2.3329112082137726e-05, 1.0860674137802562e-06, 1.4397232916962821e-05, 0.0004600759129971266, 9.325985956820659e-07, 4.102780621906277e-06, 2.4763410237937933e-06]  \n",
       "4          [0.9686702489852905, 1.7388271089657792e-06, 7.164062481024303e-07, 1.0861690498131793e-05, 0.001948266290128231, 0.0005378532805480063, 0.02868553437292576, 1.8621271010488272e-05, 5.8717745559988543e-05, 6.758371455362067e-05]  \n",
       "...                                                                                                                                                                                                                                         ...  \n",
       "16095    [0.0001012908251141198, 3.102800837950781e-05, 7.152456760195491e-07, 1.6498081834015466e-07, 5.972051076241769e-05, 2.363593921472784e-06, 2.1686319939817622e-07, 1.721076296234969e-05, 3.6328594433143735e-05, 0.9997509121894836]  \n",
       "16096  [7.440646004397422e-05, 1.5255204743880313e-06, 3.7543532727113416e-08, 6.057410129045593e-09, 2.8742326321662404e-05, 1.1886568245245144e-06, 8.901299253238903e-08, 1.5465204796782928e-06, 8.687910622029449e-07, 0.9998915195465088]  \n",
       "16097     [2.6687806894187815e-05, 5.946138116996735e-06, 1.0716652809605876e-07, 8.1198017198858e-09, 1.6061005226220004e-05, 1.0378346360084834e-06, 9.512989862514587e-08, 2.3646330191695597e-06, 1.50195171499945e-06, 0.9999462366104126]  \n",
       "16098    [5.038947711000219e-05, 8.869574958225712e-05, 8.849626738083316e-07, 3.7539329866831395e-08, 5.593971218331717e-05, 3.4090135159203783e-06, 2.237536023130815e-07, 1.1325371815473773e-05, 9.410291568201501e-06, 0.9997796416282654]  \n",
       "16099     [0.00039008233579806983, 0.04908548668026924, 0.0006156364106573164, 1.0006870070355944e-05, 0.0008298463653773069, 0.00040172861190512776, 3.261956953792833e-05, 0.0003861971490550786, 0.00010959881183225662, 0.9481388330459595]  \n",
       "\n",
       "[16100 rows x 4 columns]"
      ]
     },
     "execution_count": 11,
     "metadata": {},
     "output_type": "execute_result"
    }
   ],
   "source": [
    "pred_df = al.predict(filepaths, batch_size=128)\n",
    "pred_df"
   ]
  },
  {
   "cell_type": "code",
   "execution_count": 12,
   "metadata": {},
   "outputs": [
    {
     "name": "stderr",
     "output_type": "stream",
     "text": [
      "\u001b[32m2025-01-22 13:05:34.187\u001b[0m | \u001b[1mINFO    \u001b[0m | \u001b[36mactive_vision.core\u001b[0m:\u001b[36msample_uncertain\u001b[0m:\u001b[36m194\u001b[0m - \u001b[1mGetting top 100 low confidence samples\u001b[0m\n"
     ]
    },
    {
     "data": {
      "text/html": [
       "<div>\n",
       "<style scoped>\n",
       "    .dataframe tbody tr th:only-of-type {\n",
       "        vertical-align: middle;\n",
       "    }\n",
       "\n",
       "    .dataframe tbody tr th {\n",
       "        vertical-align: top;\n",
       "    }\n",
       "\n",
       "    .dataframe thead th {\n",
       "        text-align: right;\n",
       "    }\n",
       "</style>\n",
       "<table border=\"1\" class=\"dataframe\">\n",
       "  <thead>\n",
       "    <tr style=\"text-align: right;\">\n",
       "      <th></th>\n",
       "      <th>filepath</th>\n",
       "      <th>pred_label</th>\n",
       "      <th>pred_conf</th>\n",
       "      <th>pred_raw</th>\n",
       "      <th>uncertainty_score</th>\n",
       "    </tr>\n",
       "  </thead>\n",
       "  <tbody>\n",
       "    <tr>\n",
       "      <th>4223</th>\n",
       "      <td>data/eurosat_rgb/2/HerbaceousVegetation_1999.jpg</td>\n",
       "      <td>River</td>\n",
       "      <td>0.243696</td>\n",
       "      <td>[0.006545208860188723, 0.006468954961746931, 0.15257543325424194, 0.028058728203177452, 0.006006221286952496, 0.19429124891757965, 0.10914728045463562, 0.20301982760429382, 0.24369582533836365, 0.050191350281238556]</td>\n",
       "      <td>0.756304</td>\n",
       "    </tr>\n",
       "    <tr>\n",
       "      <th>4233</th>\n",
       "      <td>data/eurosat_rgb/2/HerbaceousVegetation_2016.jpg</td>\n",
       "      <td>Highway</td>\n",
       "      <td>0.253896</td>\n",
       "      <td>[0.014923539012670517, 0.06033500283956528, 0.25340044498443604, 0.2538958489894867, 0.00328467576764524, 0.007504026871174574, 0.042146336287260056, 0.04055648297071457, 0.20045624673366547, 0.12349751591682434]</td>\n",
       "      <td>0.746104</td>\n",
       "    </tr>\n",
       "    <tr>\n",
       "      <th>15266</th>\n",
       "      <td>data/eurosat_rgb/9/SeaLake_2451.jpg</td>\n",
       "      <td>River</td>\n",
       "      <td>0.258110</td>\n",
       "      <td>[0.04377095028758049, 0.18089479207992554, 0.04178692772984505, 0.11487150192260742, 0.053147025406360626, 0.08837658911943436, 0.0010243799770250916, 0.05347239971160889, 0.2581096291542053, 0.16454581916332245]</td>\n",
       "      <td>0.741890</td>\n",
       "    </tr>\n",
       "    <tr>\n",
       "      <th>6767</th>\n",
       "      <td>data/eurosat_rgb/3/Highway_879.jpg</td>\n",
       "      <td>Herbaceous Vegetation</td>\n",
       "      <td>0.271034</td>\n",
       "      <td>[0.014238586649298668, 0.06768019497394562, 0.2710341215133667, 0.165518119931221, 0.0034051588736474514, 0.03138979896903038, 0.11657033115625381, 0.1410232037305832, 0.16184186935424805, 0.02729857712984085]</td>\n",
       "      <td>0.728966</td>\n",
       "    </tr>\n",
       "    <tr>\n",
       "      <th>7818</th>\n",
       "      <td>data/eurosat_rgb/4/Industrial_2468.jpg</td>\n",
       "      <td>Pasture</td>\n",
       "      <td>0.273726</td>\n",
       "      <td>[0.01597953960299492, 0.004582687746733427, 0.02834785357117653, 0.23027582466602325, 0.26144683361053467, 0.2737264931201935, 0.13005907833576202, 0.004737401381134987, 0.03080136701464653, 0.02004283294081688]</td>\n",
       "      <td>0.726274</td>\n",
       "    </tr>\n",
       "    <tr>\n",
       "      <th>...</th>\n",
       "      <td>...</td>\n",
       "      <td>...</td>\n",
       "      <td>...</td>\n",
       "      <td>...</td>\n",
       "      <td>...</td>\n",
       "    </tr>\n",
       "    <tr>\n",
       "      <th>7649</th>\n",
       "      <td>data/eurosat_rgb/4/Industrial_2206.jpg</td>\n",
       "      <td>Industrial Buildings</td>\n",
       "      <td>0.411064</td>\n",
       "      <td>[0.002238618675619364, 0.011110713705420494, 0.00428147055208683, 0.004513310734182596, 0.4110642969608307, 0.0013524973765015602, 0.24071012437343597, 0.2897852957248688, 0.03010634519159794, 0.004837349057197571]</td>\n",
       "      <td>0.588936</td>\n",
       "    </tr>\n",
       "    <tr>\n",
       "      <th>10715</th>\n",
       "      <td>data/eurosat_rgb/6/PermanentCrop_607.jpg</td>\n",
       "      <td>Herbaceous Vegetation</td>\n",
       "      <td>0.411101</td>\n",
       "      <td>[0.12175867706537247, 0.0006049276562407613, 0.4111005961894989, 0.05221456289291382, 0.0003830163332168013, 0.015460995025932789, 0.3877047896385193, 0.002243193332105875, 0.0027645693626254797, 0.0057646711356937885]</td>\n",
       "      <td>0.588899</td>\n",
       "    </tr>\n",
       "    <tr>\n",
       "      <th>1531</th>\n",
       "      <td>data/eurosat_rgb/0/AnnualCrop_621.jpg</td>\n",
       "      <td>Annual Crop</td>\n",
       "      <td>0.411635</td>\n",
       "      <td>[0.41163530945777893, 0.05436517298221588, 0.04651235044002533, 0.035887159407138824, 0.05099659413099289, 0.009852408431470394, 0.3333524465560913, 0.023936660960316658, 0.023296697065234184, 0.010165156796574593]</td>\n",
       "      <td>0.588365</td>\n",
       "    </tr>\n",
       "    <tr>\n",
       "      <th>9627</th>\n",
       "      <td>data/eurosat_rgb/6/PermanentCrop_1157.jpg</td>\n",
       "      <td>Industrial Buildings</td>\n",
       "      <td>0.411638</td>\n",
       "      <td>[0.022442679852247238, 1.958520442713052e-05, 1.1879026715178043e-05, 0.201401486992836, 0.41163793206214905, 8.117841935018077e-05, 0.3618529438972473, 2.0525118088698946e-05, 0.0025303238071501255, 1.4926539506632253e-06]</td>\n",
       "      <td>0.588362</td>\n",
       "    </tr>\n",
       "    <tr>\n",
       "      <th>3629</th>\n",
       "      <td>data/eurosat_rgb/2/HerbaceousVegetation_1095.jpg</td>\n",
       "      <td>Herbaceous Vegetation</td>\n",
       "      <td>0.414517</td>\n",
       "      <td>[0.015176388435065746, 0.00277667585760355, 0.4145169258117676, 0.2588919401168823, 0.004111683461815119, 0.00010766339983092621, 0.2121284306049347, 0.02095745876431465, 0.06819875538349152, 0.00313411932438612]</td>\n",
       "      <td>0.585483</td>\n",
       "    </tr>\n",
       "  </tbody>\n",
       "</table>\n",
       "<p>100 rows × 5 columns</p>\n",
       "</div>"
      ],
      "text/plain": [
       "                                               filepath  \\\n",
       "4223   data/eurosat_rgb/2/HerbaceousVegetation_1999.jpg   \n",
       "4233   data/eurosat_rgb/2/HerbaceousVegetation_2016.jpg   \n",
       "15266               data/eurosat_rgb/9/SeaLake_2451.jpg   \n",
       "6767                 data/eurosat_rgb/3/Highway_879.jpg   \n",
       "7818             data/eurosat_rgb/4/Industrial_2468.jpg   \n",
       "...                                                 ...   \n",
       "7649             data/eurosat_rgb/4/Industrial_2206.jpg   \n",
       "10715          data/eurosat_rgb/6/PermanentCrop_607.jpg   \n",
       "1531              data/eurosat_rgb/0/AnnualCrop_621.jpg   \n",
       "9627          data/eurosat_rgb/6/PermanentCrop_1157.jpg   \n",
       "3629   data/eurosat_rgb/2/HerbaceousVegetation_1095.jpg   \n",
       "\n",
       "                  pred_label  pred_conf  \\\n",
       "4223                   River   0.243696   \n",
       "4233                 Highway   0.253896   \n",
       "15266                  River   0.258110   \n",
       "6767   Herbaceous Vegetation   0.271034   \n",
       "7818                 Pasture   0.273726   \n",
       "...                      ...        ...   \n",
       "7649    Industrial Buildings   0.411064   \n",
       "10715  Herbaceous Vegetation   0.411101   \n",
       "1531             Annual Crop   0.411635   \n",
       "9627    Industrial Buildings   0.411638   \n",
       "3629   Herbaceous Vegetation   0.414517   \n",
       "\n",
       "                                                                                                                                                                                                                              pred_raw  \\\n",
       "4223           [0.006545208860188723, 0.006468954961746931, 0.15257543325424194, 0.028058728203177452, 0.006006221286952496, 0.19429124891757965, 0.10914728045463562, 0.20301982760429382, 0.24369582533836365, 0.050191350281238556]   \n",
       "4233              [0.014923539012670517, 0.06033500283956528, 0.25340044498443604, 0.2538958489894867, 0.00328467576764524, 0.007504026871174574, 0.042146336287260056, 0.04055648297071457, 0.20045624673366547, 0.12349751591682434]   \n",
       "15266             [0.04377095028758049, 0.18089479207992554, 0.04178692772984505, 0.11487150192260742, 0.053147025406360626, 0.08837658911943436, 0.0010243799770250916, 0.05347239971160889, 0.2581096291542053, 0.16454581916332245]   \n",
       "6767                 [0.014238586649298668, 0.06768019497394562, 0.2710341215133667, 0.165518119931221, 0.0034051588736474514, 0.03138979896903038, 0.11657033115625381, 0.1410232037305832, 0.16184186935424805, 0.02729857712984085]   \n",
       "7818               [0.01597953960299492, 0.004582687746733427, 0.02834785357117653, 0.23027582466602325, 0.26144683361053467, 0.2737264931201935, 0.13005907833576202, 0.004737401381134987, 0.03080136701464653, 0.02004283294081688]   \n",
       "...                                                                                                                                                                                                                                ...   \n",
       "7649            [0.002238618675619364, 0.011110713705420494, 0.00428147055208683, 0.004513310734182596, 0.4110642969608307, 0.0013524973765015602, 0.24071012437343597, 0.2897852957248688, 0.03010634519159794, 0.004837349057197571]   \n",
       "10715       [0.12175867706537247, 0.0006049276562407613, 0.4111005961894989, 0.05221456289291382, 0.0003830163332168013, 0.015460995025932789, 0.3877047896385193, 0.002243193332105875, 0.0027645693626254797, 0.0057646711356937885]   \n",
       "1531            [0.41163530945777893, 0.05436517298221588, 0.04651235044002533, 0.035887159407138824, 0.05099659413099289, 0.009852408431470394, 0.3333524465560913, 0.023936660960316658, 0.023296697065234184, 0.010165156796574593]   \n",
       "9627   [0.022442679852247238, 1.958520442713052e-05, 1.1879026715178043e-05, 0.201401486992836, 0.41163793206214905, 8.117841935018077e-05, 0.3618529438972473, 2.0525118088698946e-05, 0.0025303238071501255, 1.4926539506632253e-06]   \n",
       "3629              [0.015176388435065746, 0.00277667585760355, 0.4145169258117676, 0.2588919401168823, 0.004111683461815119, 0.00010766339983092621, 0.2121284306049347, 0.02095745876431465, 0.06819875538349152, 0.00313411932438612]   \n",
       "\n",
       "       uncertainty_score  \n",
       "4223            0.756304  \n",
       "4233            0.746104  \n",
       "15266           0.741890  \n",
       "6767            0.728966  \n",
       "7818            0.726274  \n",
       "...                  ...  \n",
       "7649            0.588936  \n",
       "10715           0.588899  \n",
       "1531            0.588365  \n",
       "9627            0.588362  \n",
       "3629            0.585483  \n",
       "\n",
       "[100 rows x 5 columns]"
      ]
     },
     "execution_count": 12,
     "metadata": {},
     "output_type": "execute_result"
    }
   ],
   "source": [
    "uncertain_df = al.sample_uncertain(pred_df, num_samples=100)\n",
    "uncertain_df"
   ]
  },
  {
   "cell_type": "markdown",
   "metadata": {},
   "source": [
    "## Label the uncertain samples"
   ]
  },
  {
   "cell_type": "code",
   "execution_count": 13,
   "metadata": {},
   "outputs": [
    {
     "name": "stderr",
     "output_type": "stream",
     "text": [
      "\u001b[32m2025-01-22 13:05:35.719\u001b[0m | \u001b[1mINFO    \u001b[0m | \u001b[36mactive_vision.core\u001b[0m:\u001b[36mlabel\u001b[0m:\u001b[36m275\u001b[0m - \u001b[1mLaunching labeling interface for 100 samples\u001b[0m\n"
     ]
    },
    {
     "name": "stdout",
     "output_type": "stream",
     "text": [
      "* Running on local URL:  http://127.0.0.1:7860\n",
      "\n",
      "To create a public link, set `share=True` in `launch()`.\n"
     ]
    },
    {
     "data": {
      "text/html": [
       "<div><iframe src=\"http://127.0.0.1:7860/\" width=\"100%\" height=\"1000\" allow=\"autoplay; camera; microphone; clipboard-read; clipboard-write;\" frameborder=\"0\" allowfullscreen></iframe></div>"
      ],
      "text/plain": [
       "<IPython.core.display.HTML object>"
      ]
     },
     "metadata": {},
     "output_type": "display_data"
    }
   ],
   "source": [
    "al.label(uncertain_df, output_filename=\"uncertain\")"
   ]
  },
  {
   "cell_type": "code",
   "execution_count": 14,
   "metadata": {},
   "outputs": [
    {
     "data": {
      "text/html": [
       "<div>\n",
       "<style scoped>\n",
       "    .dataframe tbody tr th:only-of-type {\n",
       "        vertical-align: middle;\n",
       "    }\n",
       "\n",
       "    .dataframe tbody tr th {\n",
       "        vertical-align: top;\n",
       "    }\n",
       "\n",
       "    .dataframe thead th {\n",
       "        text-align: right;\n",
       "    }\n",
       "</style>\n",
       "<table border=\"1\" class=\"dataframe\">\n",
       "  <thead>\n",
       "    <tr style=\"text-align: right;\">\n",
       "      <th></th>\n",
       "      <th>filepath</th>\n",
       "      <th>label</th>\n",
       "    </tr>\n",
       "  </thead>\n",
       "  <tbody>\n",
       "    <tr>\n",
       "      <th>0</th>\n",
       "      <td>data/eurosat_rgb/5/Pasture_1923.jpg</td>\n",
       "      <td>Pasture</td>\n",
       "    </tr>\n",
       "    <tr>\n",
       "      <th>1</th>\n",
       "      <td>data/eurosat_rgb/6/PermanentCrop_2202.jpg</td>\n",
       "      <td>Permanent Crop</td>\n",
       "    </tr>\n",
       "    <tr>\n",
       "      <th>2</th>\n",
       "      <td>data/eurosat_rgb/2/HerbaceousVegetation_1402.jpg</td>\n",
       "      <td>Herbaceous Vegetation</td>\n",
       "    </tr>\n",
       "    <tr>\n",
       "      <th>3</th>\n",
       "      <td>data/eurosat_rgb/2/HerbaceousVegetation_1445.jpg</td>\n",
       "      <td>Herbaceous Vegetation</td>\n",
       "    </tr>\n",
       "    <tr>\n",
       "      <th>4</th>\n",
       "      <td>data/eurosat_rgb/2/HerbaceousVegetation_1029.jpg</td>\n",
       "      <td>Herbaceous Vegetation</td>\n",
       "    </tr>\n",
       "    <tr>\n",
       "      <th>...</th>\n",
       "      <td>...</td>\n",
       "      <td>...</td>\n",
       "    </tr>\n",
       "    <tr>\n",
       "      <th>903</th>\n",
       "      <td>data/eurosat_rgb/4/Industrial_2206.jpg</td>\n",
       "      <td>Industrial Buildings</td>\n",
       "    </tr>\n",
       "    <tr>\n",
       "      <th>904</th>\n",
       "      <td>data/eurosat_rgb/6/PermanentCrop_607.jpg</td>\n",
       "      <td>Permanent Crop</td>\n",
       "    </tr>\n",
       "    <tr>\n",
       "      <th>905</th>\n",
       "      <td>data/eurosat_rgb/0/AnnualCrop_621.jpg</td>\n",
       "      <td>Annual Crop</td>\n",
       "    </tr>\n",
       "    <tr>\n",
       "      <th>906</th>\n",
       "      <td>data/eurosat_rgb/6/PermanentCrop_1157.jpg</td>\n",
       "      <td>Permanent Crop</td>\n",
       "    </tr>\n",
       "    <tr>\n",
       "      <th>908</th>\n",
       "      <td>data/eurosat_rgb/2/HerbaceousVegetation_1095.jpg</td>\n",
       "      <td>Herbaceous Vegetation</td>\n",
       "    </tr>\n",
       "  </tbody>\n",
       "</table>\n",
       "<p>888 rows × 2 columns</p>\n",
       "</div>"
      ],
      "text/plain": [
       "                                             filepath                  label\n",
       "0                 data/eurosat_rgb/5/Pasture_1923.jpg                Pasture\n",
       "1           data/eurosat_rgb/6/PermanentCrop_2202.jpg         Permanent Crop\n",
       "2    data/eurosat_rgb/2/HerbaceousVegetation_1402.jpg  Herbaceous Vegetation\n",
       "3    data/eurosat_rgb/2/HerbaceousVegetation_1445.jpg  Herbaceous Vegetation\n",
       "4    data/eurosat_rgb/2/HerbaceousVegetation_1029.jpg  Herbaceous Vegetation\n",
       "..                                                ...                    ...\n",
       "903            data/eurosat_rgb/4/Industrial_2206.jpg   Industrial Buildings\n",
       "904          data/eurosat_rgb/6/PermanentCrop_607.jpg         Permanent Crop\n",
       "905             data/eurosat_rgb/0/AnnualCrop_621.jpg            Annual Crop\n",
       "906         data/eurosat_rgb/6/PermanentCrop_1157.jpg         Permanent Crop\n",
       "908  data/eurosat_rgb/2/HerbaceousVegetation_1095.jpg  Herbaceous Vegetation\n",
       "\n",
       "[888 rows x 2 columns]"
      ]
     },
     "execution_count": 14,
     "metadata": {},
     "output_type": "execute_result"
    }
   ],
   "source": [
    "labeled_df = pd.read_parquet(\"uncertain.parquet\")\n",
    "\n",
    "labeled_df\n"
   ]
  },
  {
   "cell_type": "code",
   "execution_count": 15,
   "metadata": {},
   "outputs": [
    {
     "name": "stderr",
     "output_type": "stream",
     "text": [
      "\u001b[32m2025-01-22 13:10:07.333\u001b[0m | \u001b[1mINFO    \u001b[0m | \u001b[36mactive_vision.core\u001b[0m:\u001b[36madd_to_train_set\u001b[0m:\u001b[36m619\u001b[0m - \u001b[1mAdding 888 samples to training set\u001b[0m\n",
      "\u001b[32m2025-01-22 13:10:07.337\u001b[0m | \u001b[1mINFO    \u001b[0m | \u001b[36mactive_vision.core\u001b[0m:\u001b[36madd_to_train_set\u001b[0m:\u001b[36m628\u001b[0m - \u001b[1mSaved training set to active_labeled.parquet\u001b[0m\n"
     ]
    }
   ],
   "source": [
    "al.add_to_train_set(labeled_df, output_filename=\"active_labeled\")"
   ]
  },
  {
   "cell_type": "code",
   "execution_count": null,
   "metadata": {},
   "outputs": [],
   "source": []
  }
 ],
 "metadata": {
  "kernelspec": {
   "display_name": ".venv",
   "language": "python",
   "name": "python3"
  },
  "language_info": {
   "codemirror_mode": {
    "name": "ipython",
    "version": 3
   },
   "file_extension": ".py",
   "mimetype": "text/x-python",
   "name": "python",
   "nbconvert_exporter": "python",
   "pygments_lexer": "ipython3",
   "version": "3.12.8"
  }
 },
 "nbformat": 4,
 "nbformat_minor": 2
}
